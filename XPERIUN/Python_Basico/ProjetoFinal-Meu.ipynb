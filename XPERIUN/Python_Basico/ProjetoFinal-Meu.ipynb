{
 "cells": [
  {
   "cell_type": "markdown",
   "id": "93c44b13",
   "metadata": {},
   "source": [
    "# Projeto Final: Automatização de Movimentação de Arquivos"
   ]
  },
  {
   "cell_type": "markdown",
   "id": "df8168fa",
   "metadata": {},
   "source": [
    "## Especificação"
   ]
  },
  {
   "cell_type": "markdown",
   "id": "c02f1ba1",
   "metadata": {},
   "source": [
    "\n",
    "Neste projeto, além de desenvolver um script Python que automatiza a tarefa de mover arquivos Excel processados para um diretório específico, vamos expandir a funcionalidade para criar um dicionário contendo informações adicionais sobre os arquivos. Este dicionário terá o nome do arquivo como chave e uma lista com data de criação e tamanho como valor.\n",
    "\n",
    "A especificação é somente uma sugestão e o gabarito está dessa forma, mas você pode explorar outros modos de executar essa tarefa! O importante é aprender a se virar :)\n",
    "        "
   ]
  },
  {
   "cell_type": "markdown",
   "id": "1db462f4",
   "metadata": {},
   "source": [
    "## Implementação"
   ]
  },
  {
   "cell_type": "code",
   "execution_count": 1,
   "id": "3b5d975e-e86a-4c75-927d-f2ebb3b55bb4",
   "metadata": {},
   "outputs": [
    {
     "name": "stdout",
     "output_type": "stream",
     "text": [
      "Arquivo E:/03-CursosMaterial/AnaliseDeDados/XPERIUN/Trilha50-LetsData/relatorios\\relatorio_0_processado.xlsx movido para E:/03-CursosMaterial/AnaliseDeDados/XPERIUN/Trilha50-LetsData/relatorios_processados\\relatorio_0_processado.xlsx\n",
      "Tamanho do arquivo: 6280, Data de criação: Sun Jun 23 18:35:40 2024\n",
      "Arquivo E:/03-CursosMaterial/AnaliseDeDados/XPERIUN/Trilha50-LetsData/relatorios\\relatorio_10_processado.xlsx movido para E:/03-CursosMaterial/AnaliseDeDados/XPERIUN/Trilha50-LetsData/relatorios_processados\\relatorio_10_processado.xlsx\n",
      "Tamanho do arquivo: 6194, Data de criação: Sun Jun 23 18:35:40 2024\n",
      "Arquivo E:/03-CursosMaterial/AnaliseDeDados/XPERIUN/Trilha50-LetsData/relatorios\\relatorio_11_processado.xlsx movido para E:/03-CursosMaterial/AnaliseDeDados/XPERIUN/Trilha50-LetsData/relatorios_processados\\relatorio_11_processado.xlsx\n",
      "Tamanho do arquivo: 5908, Data de criação: Sun Jun 23 18:35:40 2024\n",
      "Arquivo E:/03-CursosMaterial/AnaliseDeDados/XPERIUN/Trilha50-LetsData/relatorios\\relatorio_12_processado.xlsx movido para E:/03-CursosMaterial/AnaliseDeDados/XPERIUN/Trilha50-LetsData/relatorios_processados\\relatorio_12_processado.xlsx\n",
      "Tamanho do arquivo: 6291, Data de criação: Sun Jun 23 18:35:40 2024\n",
      "Arquivo E:/03-CursosMaterial/AnaliseDeDados/XPERIUN/Trilha50-LetsData/relatorios\\relatorio_1_processado.xlsx movido para E:/03-CursosMaterial/AnaliseDeDados/XPERIUN/Trilha50-LetsData/relatorios_processados\\relatorio_1_processado.xlsx\n",
      "Tamanho do arquivo: 6112, Data de criação: Sun Jun 23 18:35:40 2024\n",
      "Arquivo E:/03-CursosMaterial/AnaliseDeDados/XPERIUN/Trilha50-LetsData/relatorios\\relatorio_2_processado.xlsx movido para E:/03-CursosMaterial/AnaliseDeDados/XPERIUN/Trilha50-LetsData/relatorios_processados\\relatorio_2_processado.xlsx\n",
      "Tamanho do arquivo: 5780, Data de criação: Sun Jun 23 18:35:40 2024\n",
      "Arquivo E:/03-CursosMaterial/AnaliseDeDados/XPERIUN/Trilha50-LetsData/relatorios\\relatorio_3_processado.xlsx movido para E:/03-CursosMaterial/AnaliseDeDados/XPERIUN/Trilha50-LetsData/relatorios_processados\\relatorio_3_processado.xlsx\n",
      "Tamanho do arquivo: 6221, Data de criação: Sun Jun 23 18:35:40 2024\n",
      "Arquivo E:/03-CursosMaterial/AnaliseDeDados/XPERIUN/Trilha50-LetsData/relatorios\\relatorio_4_processado.xlsx movido para E:/03-CursosMaterial/AnaliseDeDados/XPERIUN/Trilha50-LetsData/relatorios_processados\\relatorio_4_processado.xlsx\n",
      "Tamanho do arquivo: 6433, Data de criação: Sun Jun 23 18:35:40 2024\n",
      "Arquivo E:/03-CursosMaterial/AnaliseDeDados/XPERIUN/Trilha50-LetsData/relatorios\\relatorio_5_processado.xlsx movido para E:/03-CursosMaterial/AnaliseDeDados/XPERIUN/Trilha50-LetsData/relatorios_processados\\relatorio_5_processado.xlsx\n",
      "Tamanho do arquivo: 5876, Data de criação: Sun Jun 23 18:35:40 2024\n",
      "Arquivo E:/03-CursosMaterial/AnaliseDeDados/XPERIUN/Trilha50-LetsData/relatorios\\relatorio_6_processado.xlsx movido para E:/03-CursosMaterial/AnaliseDeDados/XPERIUN/Trilha50-LetsData/relatorios_processados\\relatorio_6_processado.xlsx\n",
      "Tamanho do arquivo: 6640, Data de criação: Sun Jun 23 18:35:40 2024\n",
      "Arquivo E:/03-CursosMaterial/AnaliseDeDados/XPERIUN/Trilha50-LetsData/relatorios\\relatorio_7_processado.xlsx movido para E:/03-CursosMaterial/AnaliseDeDados/XPERIUN/Trilha50-LetsData/relatorios_processados\\relatorio_7_processado.xlsx\n",
      "Tamanho do arquivo: 6104, Data de criação: Sun Jun 23 18:35:40 2024\n",
      "Arquivo E:/03-CursosMaterial/AnaliseDeDados/XPERIUN/Trilha50-LetsData/relatorios\\relatorio_8_processado.xlsx movido para E:/03-CursosMaterial/AnaliseDeDados/XPERIUN/Trilha50-LetsData/relatorios_processados\\relatorio_8_processado.xlsx\n",
      "Tamanho do arquivo: 5877, Data de criação: Sun Jun 23 18:35:40 2024\n",
      "Arquivo E:/03-CursosMaterial/AnaliseDeDados/XPERIUN/Trilha50-LetsData/relatorios\\relatorio_9_processado.xlsx movido para E:/03-CursosMaterial/AnaliseDeDados/XPERIUN/Trilha50-LetsData/relatorios_processados\\relatorio_9_processado.xlsx\n",
      "Tamanho do arquivo: 5759, Data de criação: Sun Jun 23 18:35:40 2024\n"
     ]
    },
    {
     "data": {
      "text/plain": [
       "'Total de Arquivos na pasta Relatorios: 50, Total de arquivos processados: 13'"
      ]
     },
     "execution_count": 1,
     "metadata": {},
     "output_type": "execute_result"
    }
   ],
   "source": [
    "import os\n",
    "import shutil\n",
    "import time\n",
    "#\n",
    "def VerificaDiretorio(_strDiretorio, _strFlag, _blnFlag=True):\n",
    "    if not os.path.exists(_strDiretorio):\n",
    "        if _strFlag == 'cfg':\n",
    "            print(f'Pasta: {_strDiretorio}, NÃO existe! Favor verificar!!!')\n",
    "            _blnFlag = False\n",
    "        elif _strFlag == 'data':\n",
    "            try:\n",
    "                os.makedirs(_strDiretorio)\n",
    "                print(f'Diretório {_strDiretorio} criado com sucesso!!!')\n",
    "            except OSError as e:\n",
    "                print(f'Erro crítico: Não foi possível criar o diretório {_strDiretorio}: {e}')\n",
    "                _blnFlag = False\n",
    "    return _blnFlag\n",
    "#\n",
    "diretorio_origem  = \"E:/03-CursosMaterial/AnaliseDeDados/XPERIUN/Trilha50-LetsData/relatorios\"\n",
    "diretorio_destino = \"E:/03-CursosMaterial/AnaliseDeDados/XPERIUN/Trilha50-LetsData/relatorios_processados\"\n",
    "#\n",
    "if not VerificaDiretorio(diretorio_origem, 'cfg') or not VerificaDiretorio(diretorio_destino, 'data'):\n",
    "    quit()\n",
    "#\n",
    "_intCont = 0\n",
    "_intQtdArqProc = 0\n",
    "_lstArquivos = os.listdir(diretorio_origem)\n",
    "#\n",
    "for nome_arquivo in _lstArquivos:\n",
    "    if '_processado' in nome_arquivo:\n",
    "        _strPathFileOri  = os.path.join(diretorio_origem, nome_arquivo)\n",
    "        _strPathFileDest = os.path.join(diretorio_destino, nome_arquivo)\n",
    "        #\n",
    "        _intArqTamanho = os.path.getsize(_strPathFileOri)\n",
    "        _dtaArqCriacao = time.ctime(os.path.getctime(_strPathFileOri))\n",
    "        #\n",
    "        shutil.move(_strPathFileOri, _strPathFileDest)\n",
    "        print(f'Arquivo {_strPathFileOri} movido para {_strPathFileDest}')\n",
    "        print(f'Tamanho do arquivo: {_intArqTamanho}, Data de criação: {_dtaArqCriacao}')\n",
    "        _intQtdArqProc += 1\n",
    "    _intCont += 1\n",
    "#\n",
    "f'Total de Arquivos na pasta Relatorios: {len(_lstArquivos)}, Total de arquivos processados: {_intQtdArqProc}'"
   ]
  }
 ],
 "metadata": {
  "kernelspec": {
   "display_name": "Python 3 (ipykernel)",
   "language": "python",
   "name": "python3"
  },
  "language_info": {
   "codemirror_mode": {
    "name": "ipython",
    "version": 3
   },
   "file_extension": ".py",
   "mimetype": "text/x-python",
   "name": "python",
   "nbconvert_exporter": "python",
   "pygments_lexer": "ipython3",
   "version": "3.8.0"
  }
 },
 "nbformat": 4,
 "nbformat_minor": 5
}
