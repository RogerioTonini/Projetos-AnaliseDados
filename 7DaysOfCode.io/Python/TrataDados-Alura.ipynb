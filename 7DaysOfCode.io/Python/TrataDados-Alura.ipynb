{
 "cells": [
  {
   "cell_type": "code",
   "execution_count": null,
   "metadata": {},
   "outputs": [],
   "source": [
    "\"\"\" \n",
    "# Procedimentos a serem realizados\n",
    "# 1 - Criação de uma chave Universal para realizar a verificação de registros duplicados\n",
    "#    1.1 - Converter as colunas: ['data_emprestimo'], ['data_devolucao'] e ['data_renovacao'] para Datetime\n",
    "#    1.2 - Criar a coluna ['DataEmprestimo_fmt'] para armazenar a Data e Hora da coluna ['data_emprestimo'] no formato: yyyymmddhhmmss\n",
    "#    1.3 - Retirar a casa decimal da coluna ['matricula_ou_siape']\n",
    "#       a - Converte a coluna para STRING\n",
    "#       b - Eliminar os 2 últimos caracteres [.0]\n",
    "#       c - Criar uma nova coluna ['ID_MatriculaSiape'] para armazenar o novo valor\n",
    "#   1.4 - Converter todos os caracteres que não forem números para números da coluna ['codigo_barras']\n",
    "#   1.5 - Armazenar na coluna ['ID_Unico'] os dados concatenados das colunas:\n",
    "#       ['id_emprestimo'].astype(str) + ['ID_CodigoBarras'].astype(str) + df_Livros['ID_MatriculaSiape'] + df_Livros['DataEmprestimo_fmt']\n",
    "\"\"\"\n",
    "import pandas as pd\n",
    "\n",
    "def converter_nao_numericos_para_ascii(texto):\n",
    "  \"\"\" Converte caracteres não numéricos em um texto para ASCII e mantém os numéricos. \"\"\"\n",
    "  resultado = []\n",
    "  for caractere in texto:\n",
    "    if caractere.isdigit():\n",
    "      resultado.append(caractere)\n",
    "    else:\n",
    "      resultado.append(str(ord(caractere)))\n",
    "  return int(''.join(resultado))  \n",
    "\n",
    "pd.options.mode.copy_on_write = True\n",
    " \n",
    "_strCaminho = 'D:/Users/rtoni/OneDrive/Git-Dados/Projetos/7DaysOfCode.io/Dados/'\n",
    "_strDB_Livros = 'DB_Emprestimo.csv'\n",
    "_strDB_Parquet = 'DB_CadLivros.csv'\n",
    "df_Livros = pd.read_csv(f'{_strCaminho}{_strDB_Livros}', sep=';')\n",
    "df_Parquet = pd.read_csv(f'{_strCaminho}{_strDB_Parquet}', sep=';')\n",
    "# \n",
    "df_Livros['data_emprestimo'] = pd.to_datetime(df_Livros['data_emprestimo'])\n",
    "df_Livros['data_devolucao']  = pd.to_datetime(df_Livros['data_devolucao'])\n",
    "df_Livros['data_renovacao']  = pd.to_datetime(df_Livros['data_renovacao'])\n",
    "#\n",
    "df_Livros['DataEmprestimo_fmt'] = df_Livros['data_emprestimo'].dt.strftime('%Y%m%d%H%M')\n",
    "#\n",
    "df_Livros['codigo_barras']   = df_Livros['codigo_barras'].str.strip()\n",
    "df_Livros['ID_CodigoBarras'] = df_Livros['codigo_barras'].apply(converter_nao_numericos_para_ascii)\n",
    "#\n",
    "df_Livros['matricula_ou_siape'] = df_Livros['matricula_ou_siape'].astype(str)\n",
    "df_Livros['matricula_ou_siape'] = df_Livros['matricula_ou_siape'].str.strip()\n",
    "df_Livros['ID_MatriculaSiape']  = df_Livros['matricula_ou_siape'].str.slice(stop=-2)\n",
    "#\n",
    "df_Livros['Id_Unico'] = ( \n",
    "    df_Livros['id_emprestimo'].astype(str) + \n",
    "    df_Livros['ID_CodigoBarras'].astype(str) +\n",
    "    df_Livros['ID_MatriculaSiape'] + \n",
    "    df_Livros['DataEmprestimo_fmt']\n",
    ")\n",
    "#\n",
    "df_Livros.drop(['DataEmprestimo_fmt', 'ID_CodigoBarras', 'ID_MatriculaSiape'], axis=1, inplace=True)\n",
    "#\n",
    "df_Livros.info()\n",
    "df_Livros.head()"
   ]
  },
  {
   "cell_type": "code",
   "execution_count": null,
   "metadata": {},
   "outputs": [],
   "source": [
    "df_Livros"
   ]
  },
  {
   "cell_type": "code",
   "execution_count": null,
   "metadata": {},
   "outputs": [],
   "source": [
    "\"\"\" \n",
    "# Faz a verificação e a contagem dos registros duplicados\n",
    "# Foram encontradas 37 duplicidades no total\n",
    "# Apagados os registros em duplicidade\n",
    "\"\"\"\n",
    "df_Livros.duplicated().sum()"
   ]
  },
  {
   "cell_type": "code",
   "execution_count": null,
   "metadata": {},
   "outputs": [],
   "source": [
    "df_Livros['ID_Unico'].value_counts()"
   ]
  },
  {
   "cell_type": "code",
   "execution_count": null,
   "metadata": {},
   "outputs": [],
   "source": [
    "\n",
    "df_Livros = df_Livros.drop_duplicates(subset=['ID_Unico'], keep='first')\n",
    "#\n"
   ]
  },
  {
   "cell_type": "code",
   "execution_count": null,
   "metadata": {},
   "outputs": [],
   "source": []
  },
  {
   "cell_type": "code",
   "execution_count": null,
   "metadata": {},
   "outputs": [],
   "source": [
    "# df_Livros['ID_CodigoBarras'] = df_Livros['codigo_barras'].apply(lambda x: int(''.join(str(ord(c)) for c in x)))\n",
    "\n",
    "\n",
    "# _intCont = 0\n",
    "# for elemento in df_Livros['id_emprestimo']:\n",
    "#     #\n",
    "#     if not df_Livros['matricula_ou_siape'][_intCont] == 'matricula_ou_siape':\n",
    "#         #\n",
    "#         _intQtdCarac   = 0\n",
    "#         _strMatricula  = ''\n",
    "#         _strID_Unico   = '' \n",
    "#         _strDtHrSerial = ''\n",
    "#         #\n",
    "#         _intQtdCarac  = len(df_Livros['matricula_ou_siape'][_intCont]) - 2\n",
    "#         _strMatricula = df_Livros['matricula_ou_siape'][_intCont][:_intQtdCarac]\n",
    "#         #\n",
    "#         _strDtHrSerial =  df_Livros['data_emprestimo'][_intCont][:4]       # Ano\n",
    "#         _strDtHrSerial += df_Livros['data_emprestimo'][_intCont][5:7]      # Mes\n",
    "#         _strDtHrSerial += df_Livros['data_emprestimo'][_intCont][8:10]     # Dia\n",
    "#         _strDtHrSerial += df_Livros['data_emprestimo'][_intCont][11:13]    # Hora\n",
    "#         _strDtHrSerial += df_Livros['data_emprestimo'][_intCont][14:16]    # Minuto\n",
    "#         _strDtHrSerial += df_Livros['data_emprestimo'][_intCont][17:19]    # Segundo\n",
    "#         \"\"\"         \n",
    "#         # Monta o ID Único: \n",
    "#         # _strID_Unico = ['id_emprestimo'].astype(str) + ['codigo_barras'] + ['matricula_ou_siape'] + _strDataHoraSerial\n",
    "#         # Ao armazenar na coluna ['Id_Unico'] é convertido para INT\n",
    "#         \"\"\"        \n",
    "#         _strID_Unico = str(df_Livros['id_emprestimo'][_intCont]) + df_Livros['codigo_barras'][_intCont] + _strMatricula + _strDtHrSerial\n",
    "#         df_Livros['Id_Unico'][_intCont] = _strID_Unico\n",
    "#     else:\n",
    "#         df_Livros['matricula_ou_siape'][_intCont] = '0'\n",
    "#     #\n",
    "#     _intCont += 1"
   ]
  }
 ],
 "metadata": {
  "kernelspec": {
   "display_name": "Python 3",
   "language": "python",
   "name": "python3"
  },
  "language_info": {
   "codemirror_mode": {
    "name": "ipython",
    "version": 3
   },
   "file_extension": ".py",
   "mimetype": "text/x-python",
   "name": "python",
   "nbconvert_exporter": "python",
   "pygments_lexer": "ipython3",
   "version": "3.8.0"
  }
 },
 "nbformat": 4,
 "nbformat_minor": 2
}
