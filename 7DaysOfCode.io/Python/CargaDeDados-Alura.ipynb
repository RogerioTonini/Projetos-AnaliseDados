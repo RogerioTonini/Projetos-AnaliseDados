{
 "cells": [
  {
   "cell_type": "code",
   "execution_count": null,
   "metadata": {},
   "outputs": [],
   "source": [
    "\"\"\" \n",
    "# ALURA - 7DaysOfCode\n",
    "\"\"\"\n",
    "import pandas as pd\n",
    "#\n",
    "pd.options.display.max_rows = 10000\n",
    "pd.options.display.max_columns = 30\n",
    "#\n",
    "_dicNomeDF   = {}\n",
    "_strNomeDF   = ''\n",
    "_strPathData = 'D:/Users/rtoni/OneDrive/Git-Dados/Projetos/7DaysOfCode.io/Dados/'\n",
    "_strDB_Emprestimo = 'DB_Emprestimo.csv'\n",
    "_strDB_CadLivros  = 'DB_CadLivros.csv'\n",
    "_strURL     = 'https://raw.githubusercontent.com/RogerioTonini/7_Days_of_Code_Alura-Python-Pandas/main/Dia_1-Importando_dados/Datasets/dados_emprestimos/emprestimos-'\n",
    "_lstQtdArqs = [1, 2]\n",
    "_lstAnos    = [2010, 2011, 2012, 2013, 2014, 2015, 2016, 2017, 2018, 2019, 2020]\n",
    "_lstDataFrames = []\n",
    "#\n",
    "for _intAno in _lstAnos:\n",
    "    for _intQtdArqs in _lstQtdArqs:\n",
    "        #\n",
    "        _strURL_Arq = f\"{_strURL}{str(_intAno)}{str(_intQtdArqs)}.csv?raw=true\"\n",
    "        _strNomeDF  = f'df_{str(_intAno)}_{str(_intQtdArqs)}'\n",
    "        #\n",
    "        try:\n",
    "            _dicNomeDF[_strNomeDF] = pd.read_csv(_strURL_Arq, sep=\",\")\n",
    "        except Exception as e:\n",
    "            continue\n",
    "#\n",
    "for nome_dataframe, df in _dicNomeDF.items():   # Itere pelos DataFrames no dicionário\n",
    "    _lstDataFrames.append(df)                   # Adiciona cada DataFrame à lista\n",
    "#\n",
    "df_Dados = pd.concat(_lstDataFrames, ignore_index=True)     # Unifica todos os DataFrames da lista em um único DataFrame\n",
    "df_Dados.to_csv(_strPathData + _strDB_Emprestimo, header=True, index=False, sep=';')\n",
    "#\n",
    "df_Dados = pd.read_parquet('https://github.com/RogerioTonini/7_Days_of_Code_Alura-Python-Pandas/blob/main/Dia_1-Importando_dados/Datasets/dados_exemplares.parquet')\n",
    "df_Dados.to_csv(_strPathData + _strDB_CadLivros, header=True, index=False)\n",
    "\n",
    "print('Processo finalizado!!!')"
   ]
  },
  {
   "cell_type": "code",
   "execution_count": null,
   "metadata": {},
   "outputs": [],
   "source": []
  }
 ],
 "metadata": {
  "kernelspec": {
   "display_name": "Python 3",
   "language": "python",
   "name": "python3"
  },
  "language_info": {
   "codemirror_mode": {
    "name": "ipython",
    "version": 3
   },
   "file_extension": ".py",
   "mimetype": "text/x-python",
   "name": "python",
   "nbconvert_exporter": "python",
   "pygments_lexer": "ipython3",
   "version": "3.8.0"
  }
 },
 "nbformat": 4,
 "nbformat_minor": 2
}
